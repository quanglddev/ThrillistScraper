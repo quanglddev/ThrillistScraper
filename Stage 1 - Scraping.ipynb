{
 "cells": [
  {
   "cell_type": "code",
   "execution_count": null,
   "id": "f09da0ec",
   "metadata": {},
   "outputs": [],
   "source": [
    "from bs4 import BeautifulSoup\n",
    "\n",
    "from selenium import webdriver \n",
    "from selenium.webdriver.chrome.options import Options \n",
    "from selenium.webdriver.chrome.service import Service \n",
    "from webdriver_manager.chrome import ChromeDriverManager\n",
    "\n",
    "from dataclasses import dataclass"
   ]
  },
  {
   "cell_type": "code",
   "execution_count": null,
   "id": "ec3010d1",
   "metadata": {},
   "outputs": [],
   "source": [
    "driver = webdriver.Chrome(service=Service(ChromeDriverManager().install()))"
   ]
  },
  {
   "cell_type": "code",
   "execution_count": null,
   "id": "1bd0e145",
   "metadata": {},
   "outputs": [],
   "source": [
    "driver.get(\"https://www.thrillist.com/philadelphia\")"
   ]
  },
  {
   "cell_type": "code",
   "execution_count": null,
   "id": "196e6890",
   "metadata": {},
   "outputs": [],
   "source": [
    "html = driver.page_source\n",
    "parser = BeautifulSoup(html, 'html.parser')"
   ]
  },
  {
   "cell_type": "code",
   "execution_count": null,
   "id": "d9adcbd2",
   "metadata": {},
   "outputs": [],
   "source": [
    "cards = parser.find_all('div', class_='UniversalContentCardstyles__UCCTextBlock-sc-r8ldlw-0 hWJlON', recursive=True)[:4]"
   ]
  },
  {
   "cell_type": "code",
   "execution_count": null,
   "id": "a247f6bb",
   "metadata": {},
   "outputs": [],
   "source": [
    "@dataclass\n",
    "class Article:\n",
    "    activity: str\n",
    "    href: str\n",
    "    title: str\n",
    "    description: str"
   ]
  },
  {
   "cell_type": "code",
   "execution_count": null,
   "id": "bdde7fe3",
   "metadata": {},
   "outputs": [],
   "source": [
    "articles = []"
   ]
  },
  {
   "cell_type": "code",
   "execution_count": null,
   "id": "0ee41876",
   "metadata": {},
   "outputs": [],
   "source": [
    "for card in cards:\n",
    "    activityType = card.find_all('a', recursive=True)[0].text\n",
    "    href = \"https://www.thrillist.com\" + card.find_all('a', recursive=True)[1]['href']\n",
    "    h2 = card.find('h2', recursive=True).text\n",
    "    h3 = card.find('h3', recursive=True).text\n",
    "    \n",
    "    newArticle = Article(activityType, href, h2, h3)\n",
    "    articles.append(newArticle)"
   ]
  },
  {
   "cell_type": "code",
   "execution_count": null,
   "id": "07a4a510",
   "metadata": {},
   "outputs": [],
   "source": [
    "articles"
   ]
  },
  {
   "cell_type": "code",
   "execution_count": null,
   "id": "8994de8e",
   "metadata": {},
   "outputs": [],
   "source": [
    "driver.get(articles[0].href)"
   ]
  },
  {
   "cell_type": "code",
   "execution_count": null,
   "id": "b833c669",
   "metadata": {},
   "outputs": [],
   "source": [
    "html = driver.page_source\n",
    "parser = BeautifulSoup(html, 'html.parser')"
   ]
  },
  {
   "cell_type": "code",
   "execution_count": null,
   "id": "3db75c96",
   "metadata": {},
   "outputs": [],
   "source": [
    "content = parser.find('div', class_='NodeArticlestyles__ObscuredContentWrapper-sc-1dhoc8d-6 hUqleM', recursive=True)"
   ]
  },
  {
   "cell_type": "code",
   "execution_count": null,
   "id": "0940c2e3",
   "metadata": {},
   "outputs": [],
   "source": [
    "h2s = content.find_all('h2', recursive=True)"
   ]
  },
  {
   "cell_type": "code",
   "execution_count": null,
   "id": "971a2adc",
   "metadata": {},
   "outputs": [],
   "source": [
    "len(h2s)"
   ]
  },
  {
   "cell_type": "code",
   "execution_count": null,
   "id": "fb7d4cd8",
   "metadata": {},
   "outputs": [],
   "source": [
    "@dataclass\n",
    "class Suggestion:\n",
    "    title: str\n",
    "    href: str"
   ]
  },
  {
   "cell_type": "code",
   "execution_count": null,
   "id": "c1134f76",
   "metadata": {},
   "outputs": [],
   "source": [
    "suggestions1 = []\n",
    "\n",
    "BASE_URL = \"https://www.thrillist.com\""
   ]
  },
  {
   "cell_type": "code",
   "execution_count": null,
   "id": "6d22e832",
   "metadata": {},
   "outputs": [],
   "source": [
    "for h2 in h2s:\n",
    "    title = h2.text\n",
    "    a = h2.parent if h2.parent.name == 'a' else h2.find('a', recursive=True)\n",
    "    if not a:\n",
    "        continue\n",
    "    href = a['href']\n",
    "    href = href if 'http' in href else BASE_URL + href\n",
    "    \n",
    "    newSuggestion = Suggestion(title, href)\n",
    "    suggestions1.append(newSuggestion)"
   ]
  },
  {
   "cell_type": "code",
   "execution_count": null,
   "id": "3725539e",
   "metadata": {},
   "outputs": [],
   "source": [
    "suggestions1"
   ]
  },
  {
   "cell_type": "code",
   "execution_count": null,
   "id": "fba30239",
   "metadata": {},
   "outputs": [],
   "source": []
  }
 ],
 "metadata": {
  "kernelspec": {
   "display_name": "thrillistScraper",
   "language": "python",
   "name": "thrillistscraper"
  },
  "language_info": {
   "codemirror_mode": {
    "name": "ipython",
    "version": 3
   },
   "file_extension": ".py",
   "mimetype": "text/x-python",
   "name": "python",
   "nbconvert_exporter": "python",
   "pygments_lexer": "ipython3",
   "version": "3.8.13"
  }
 },
 "nbformat": 4,
 "nbformat_minor": 5
}
