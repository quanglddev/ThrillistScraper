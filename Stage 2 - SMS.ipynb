{
 "cells": [
  {
   "cell_type": "code",
   "execution_count": null,
   "id": "f09da0ec",
   "metadata": {},
   "outputs": [],
   "source": [
    "from bs4 import BeautifulSoup\n",
    "\n",
    "from selenium import webdriver \n",
    "from selenium.webdriver.chrome.options import Options \n",
    "from selenium.webdriver.chrome.service import Service \n",
    "from webdriver_manager.chrome import ChromeDriverManager\n",
    "\n",
    "from dataclasses import dataclass"
   ]
  },
  {
   "cell_type": "code",
   "execution_count": null,
   "id": "ec3010d1",
   "metadata": {},
   "outputs": [],
   "source": [
    "driver = webdriver.Chrome(service=Service(ChromeDriverManager().install()))"
   ]
  },
  {
   "cell_type": "code",
   "execution_count": null,
   "id": "1bd0e145",
   "metadata": {},
   "outputs": [],
   "source": [
    "driver.get(\"https://www.thrillist.com/philadelphia\")"
   ]
  },
  {
   "cell_type": "code",
   "execution_count": null,
   "id": "196e6890",
   "metadata": {},
   "outputs": [],
   "source": [
    "html = driver.page_source\n",
    "parser = BeautifulSoup(html, 'html.parser')"
   ]
  },
  {
   "cell_type": "code",
   "execution_count": null,
   "id": "d9adcbd2",
   "metadata": {},
   "outputs": [],
   "source": [
    "cards = parser.find_all('div', class_='UniversalContentCardstyles__UCCTextBlock-sc-r8ldlw-0 hWJlON', recursive=True)[:4]"
   ]
  },
  {
   "cell_type": "code",
   "execution_count": null,
   "id": "a247f6bb",
   "metadata": {},
   "outputs": [],
   "source": [
    "@dataclass\n",
    "class Article:\n",
    "    activity: str\n",
    "    href: str\n",
    "    title: str\n",
    "    description: str"
   ]
  },
  {
   "cell_type": "code",
   "execution_count": null,
   "id": "bdde7fe3",
   "metadata": {},
   "outputs": [],
   "source": [
    "articles = []"
   ]
  },
  {
   "cell_type": "code",
   "execution_count": null,
   "id": "0ee41876",
   "metadata": {},
   "outputs": [],
   "source": [
    "for card in cards:\n",
    "    activityType = card.find_all('a', recursive=True)[0].text\n",
    "    href = \"https://www.thrillist.com\" + card.find_all('a', recursive=True)[1]['href']\n",
    "    h2 = card.find('h2', recursive=True).text\n",
    "    h3 = card.find('h3', recursive=True).text\n",
    "    \n",
    "    newArticle = Article(activityType, href, h2, h3)\n",
    "    articles.append(newArticle)"
   ]
  },
  {
   "cell_type": "code",
   "execution_count": null,
   "id": "07a4a510",
   "metadata": {},
   "outputs": [],
   "source": [
    "articles"
   ]
  },
  {
   "cell_type": "code",
   "execution_count": null,
   "id": "8994de8e",
   "metadata": {},
   "outputs": [],
   "source": [
    "driver.get(articles[0].href)"
   ]
  },
  {
   "cell_type": "code",
   "execution_count": null,
   "id": "b833c669",
   "metadata": {},
   "outputs": [],
   "source": [
    "html = driver.page_source\n",
    "parser = BeautifulSoup(html, 'html.parser')"
   ]
  },
  {
   "cell_type": "code",
   "execution_count": null,
   "id": "3db75c96",
   "metadata": {},
   "outputs": [],
   "source": [
    "content = parser.find('div', class_='NodeArticlestyles__ObscuredContentWrapper-sc-1dhoc8d-6 hUqleM', recursive=True)"
   ]
  },
  {
   "cell_type": "code",
   "execution_count": null,
   "id": "0940c2e3",
   "metadata": {},
   "outputs": [],
   "source": [
    "h2s = content.find_all('h2', recursive=True)"
   ]
  },
  {
   "cell_type": "code",
   "execution_count": null,
   "id": "971a2adc",
   "metadata": {},
   "outputs": [],
   "source": [
    "len(h2s)"
   ]
  },
  {
   "cell_type": "code",
   "execution_count": null,
   "id": "fb7d4cd8",
   "metadata": {},
   "outputs": [],
   "source": [
    "@dataclass\n",
    "class Suggestion:\n",
    "    title: str\n",
    "    href: str"
   ]
  },
  {
   "cell_type": "code",
   "execution_count": null,
   "id": "c1134f76",
   "metadata": {},
   "outputs": [],
   "source": [
    "suggestions1 = []\n",
    "\n",
    "BASE_URL = \"https://www.thrillist.com\""
   ]
  },
  {
   "cell_type": "code",
   "execution_count": null,
   "id": "6d22e832",
   "metadata": {},
   "outputs": [],
   "source": [
    "for h2 in h2s:\n",
    "    title = h2.text\n",
    "    a = h2.parent if h2.parent.name == 'a' else h2.find('a', recursive=True)\n",
    "    if not a:\n",
    "        continue\n",
    "    href = a['href']\n",
    "    href = href if 'http' in href else BASE_URL + href\n",
    "    \n",
    "    newSuggestion = Suggestion(title, href)\n",
    "    suggestions1.append(newSuggestion)"
   ]
  },
  {
   "cell_type": "code",
   "execution_count": null,
   "id": "3725539e",
   "metadata": {},
   "outputs": [],
   "source": [
    "suggestions1"
   ]
  },
  {
   "cell_type": "code",
   "execution_count": null,
   "id": "b1088610",
   "metadata": {},
   "outputs": [],
   "source": [
    "import googlemaps"
   ]
  },
  {
   "cell_type": "code",
   "execution_count": null,
   "id": "36cc3738",
   "metadata": {},
   "outputs": [],
   "source": [
    "client = googlemaps.Client(\"API_KEY_HERE\")"
   ]
  },
  {
   "cell_type": "code",
   "execution_count": null,
   "id": "c1fdf23b",
   "metadata": {},
   "outputs": [],
   "source": [
    "destination = client.find_place(\n",
    "    f\"{suggestions1[0].title} YOUR_CITY_HERE\",\n",
    "    \"textquery\",\n",
    "    fields=[\"place_id\"],\n",
    "    location_bias=\"point:90,90\",\n",
    "    language=\"en-US\",\n",
    ")\n",
    "\n",
    "destination"
   ]
  },
  {
   "cell_type": "code",
   "execution_count": null,
   "id": "819ff992",
   "metadata": {},
   "outputs": [],
   "source": [
    "destination_id = destination['candidates'][0]['place_id']\n",
    "\n",
    "destination_id"
   ]
  },
  {
   "cell_type": "code",
   "execution_count": null,
   "id": "be42c75b",
   "metadata": {},
   "outputs": [],
   "source": [
    "origin = client.find_place(\n",
    "    \"YOUR_HOME_ADDRESS_HERE\",\n",
    "    \"textquery\",\n",
    "    fields=[\"business_status\", \"place_id\"],\n",
    "    location_bias=\"point:90,90\",\n",
    "    language=\"en-US\",\n",
    ")\n",
    "\n",
    "origin"
   ]
  },
  {
   "cell_type": "code",
   "execution_count": null,
   "id": "2b96c7c1",
   "metadata": {},
   "outputs": [],
   "source": [
    "origin_id = origin['candidates'][0]['place_id']\n",
    "\n",
    "origin_id"
   ]
  },
  {
   "cell_type": "code",
   "execution_count": null,
   "id": "a3466b12",
   "metadata": {},
   "outputs": [],
   "source": [
    "hours = client.place(\n",
    "    destination_id,\n",
    "    fields=[\"opening_hours\"],\n",
    "    language=\"en-US\",\n",
    ")\n",
    "\n",
    "hours"
   ]
  },
  {
   "cell_type": "code",
   "execution_count": null,
   "id": "f0123dce",
   "metadata": {},
   "outputs": [],
   "source": [
    "saturday = hours['result']['opening_hours']['weekday_text'][5]\n",
    "\n",
    "saturday"
   ]
  },
  {
   "cell_type": "code",
   "execution_count": null,
   "id": "351c2f36",
   "metadata": {},
   "outputs": [],
   "source": [
    "openText = ' '.join(saturday.split(' ')[1:])\n",
    "\n",
    "openText"
   ]
  },
  {
   "cell_type": "code",
   "execution_count": null,
   "id": "5f84a323",
   "metadata": {},
   "outputs": [],
   "source": [
    "walking = client.directions(\n",
    "    f'place_id:{origin_id}',\n",
    "    f'place_id:{destination_id}',\n",
    "    mode=\"walking\",\n",
    "    units=\"metric\",\n",
    "    region=\"us\",\n",
    ")\n",
    "\n",
    "walking"
   ]
  },
  {
   "cell_type": "code",
   "execution_count": null,
   "id": "0615f429",
   "metadata": {},
   "outputs": [],
   "source": [
    "walkingInfo = walking[0]['legs'][0]['duration']\n",
    "\n",
    "walkingInfo"
   ]
  },
  {
   "cell_type": "code",
   "execution_count": null,
   "id": "3dcba885",
   "metadata": {},
   "outputs": [],
   "source": [
    "transit = client.directions(\n",
    "    f'place_id:{origin_id}',\n",
    "    f'place_id:{destination_id}',\n",
    "    mode=\"transit\",\n",
    "    units=\"metric\",\n",
    "    region=\"us\",\n",
    ")\n",
    "\n",
    "transit"
   ]
  },
  {
   "cell_type": "code",
   "execution_count": null,
   "id": "8dc4f370",
   "metadata": {},
   "outputs": [],
   "source": [
    "transitInfo = transit[0]['legs'][0]['duration']\n",
    "\n",
    "transitInfo"
   ]
  },
  {
   "cell_type": "code",
   "execution_count": null,
   "id": "35ed076b",
   "metadata": {},
   "outputs": [],
   "source": [
    "shouldWalk = walkingInfo['value'] < transitInfo['value']\n",
    "\n",
    "shouldWalk"
   ]
  },
  {
   "cell_type": "code",
   "execution_count": null,
   "id": "9df84929",
   "metadata": {},
   "outputs": [],
   "source": [
    "body = \"\"\n",
    "\n",
    "emojisDict = {\n",
    "    'eat': '🍔🍔🍔',\n",
    "    'lifestyle': '🗿🗿🗿',\n",
    "    'event': '🎪🎪🎪'\n",
    "}\n",
    "\n",
    "body += f\"{emojisDict[articles[0].activity.lower()]} {articles[0].title}\\n\""
   ]
  },
  {
   "cell_type": "code",
   "execution_count": null,
   "id": "3f7b47b1",
   "metadata": {},
   "outputs": [],
   "source": [
    "for idx, suggestion in enumerate(suggestions1):\n",
    "    body += '\\n'\n",
    "    body += f\"{idx + 1}. \"\n",
    "    \n",
    "    etaAndMode = \"\"\n",
    "    if shouldWalk:\n",
    "        etaAndMode = f\"🚶‍♂️ {walkingInfo['text']}\"\n",
    "    else:\n",
    "        etaAndMode = f\"🚌 {transitInfo['text']}\"\n",
    "        \n",
    "    body += f\"{suggestion.title} ({openText}) - {etaAndMode} - {suggestion.href}\""
   ]
  },
  {
   "cell_type": "code",
   "execution_count": null,
   "id": "2a98511a",
   "metadata": {
    "scrolled": true
   },
   "outputs": [],
   "source": [
    "print(body)"
   ]
  },
  {
   "cell_type": "code",
   "execution_count": null,
   "id": "66bb859e",
   "metadata": {},
   "outputs": [],
   "source": [
    "import os\n",
    "from twilio.rest import Client\n",
    "\n",
    "\n",
    "# Find your Account SID and Auth Token at twilio.com/console\n",
    "# and set the environment variables. See http://twil.io/secure\n",
    "account_sid = \"YOUR_TWILIO_SID_HERE\"\n",
    "auth_token = \"YOUR_TWILIO_TOKEN_HERE\"\n",
    "client = Client(account_sid, auth_token)\n",
    "\n",
    "message = client.messages \\\n",
    "                .create(\n",
    "                     body=body,\n",
    "                     from_='+YOUR_VIRTUAL_PHONE_NUMBER_HERE',\n",
    "                     to='+RECEIVE_PHONE_NUMBER_HERE'\n",
    "                 )\n",
    "\n",
    "print(message.sid)"
   ]
  },
  {
   "cell_type": "code",
   "execution_count": null,
   "id": "e489de80",
   "metadata": {
    "scrolled": true
   },
   "outputs": [],
   "source": [
    "print(message)"
   ]
  },
  {
   "cell_type": "code",
   "execution_count": null,
   "id": "c745bb11",
   "metadata": {
    "scrolled": true
   },
   "outputs": [],
   "source": [
    "print(message.status)"
   ]
  },
  {
   "cell_type": "code",
   "execution_count": null,
   "id": "fba30239",
   "metadata": {},
   "outputs": [],
   "source": []
  }
 ],
 "metadata": {
  "kernelspec": {
   "display_name": "thrillistScraper",
   "language": "python",
   "name": "thrillistscraper"
  },
  "language_info": {
   "codemirror_mode": {
    "name": "ipython",
    "version": 3
   },
   "file_extension": ".py",
   "mimetype": "text/x-python",
   "name": "python",
   "nbconvert_exporter": "python",
   "pygments_lexer": "ipython3",
   "version": "3.8.13"
  }
 },
 "nbformat": 4,
 "nbformat_minor": 5
}
